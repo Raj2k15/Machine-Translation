{
 "cells": [
  {
   "cell_type": "markdown",
   "metadata": {
    "collapsed": true
   },
   "source": [
    "# Artificial Intelligence Nanodegree\n",
    "## Machine Translation Project\n",
    "In this notebook, sections that end with **'(IMPLEMENTATION)'** in the header indicate that the following blocks of code will require additional functionality which you must provide. Please be sure to read the instructions carefully!\n",
    "\n",
    "## Introduction\n",
    "In this notebook, you will build a deep neural network that functions as part of an end-to-end machine translation pipeline. Your completed pipeline will accept English text as input and return the French translation.\n",
    "\n",
    "- **Preprocess** - You'll convert text to sequence of integers.\n",
    "- **Models** Create models which accepts a sequence of integers as input and returns a probability distribution over possible translations. After learning about the basic types of neural networks that are often used for machine translation, you will engage in your own investigations, to design your own model!\n",
    "- **Prediction** Run the model on English text."
   ]
  },
  {
   "cell_type": "code",
   "execution_count": 3,
   "metadata": {},
   "outputs": [],
   "source": [
    "%load_ext autoreload\n",
    "%aimport helper, tests\n",
    "%autoreload 1"
   ]
  },
  {
   "cell_type": "code",
   "execution_count": 4,
   "metadata": {},
   "outputs": [],
   "source": [
    "import collections\n",
    "\n",
    "import helper\n",
    "import numpy as np\n",
    "import project_tests as tests\n",
    "\n",
    "from keras.preprocessing.text import Tokenizer\n",
    "from keras.preprocessing.sequence import pad_sequences\n",
    "from keras.models import Model\n",
    "from keras.layers import GRU, Input, Dense, TimeDistributed, Activation, RepeatVector, Bidirectional\n",
    "from keras.layers.embeddings import Embedding\n",
    "from keras.optimizers import Adam\n",
    "from keras.losses import sparse_categorical_crossentropy"
   ]
  },
  {
   "cell_type": "markdown",
   "metadata": {},
   "source": [
    "### Verify access to the GPU\n",
    "The following test applies only if you expect to be using a GPU, e.g., while running in a Udacity Workspace or using an AWS instance with GPU support. Run the next cell, and verify that the device_type is \"GPU\".\n",
    "- If the device is not GPU & you are running from a Udacity Workspace, then save your workspace with the icon at the top, then click \"enable\" at the bottom of the workspace.\n",
    "- If the device is not GPU & you are running from an AWS instance, then refer to the cloud computing instructions in the classroom to verify your setup steps."
   ]
  },
  {
   "cell_type": "code",
   "execution_count": 5,
   "metadata": {},
   "outputs": [
    {
     "name": "stdout",
     "output_type": "stream",
     "text": [
      "[name: \"/cpu:0\"\n",
      "device_type: \"CPU\"\n",
      "memory_limit: 268435456\n",
      "locality {\n",
      "}\n",
      "incarnation: 8892178678096135941\n",
      ", name: \"/gpu:0\"\n",
      "device_type: \"GPU\"\n",
      "memory_limit: 357302272\n",
      "locality {\n",
      "  bus_id: 1\n",
      "}\n",
      "incarnation: 12249451348072713195\n",
      "physical_device_desc: \"device: 0, name: Tesla K80, pci bus id: 0000:00:04.0\"\n",
      "]\n"
     ]
    }
   ],
   "source": [
    "from tensorflow.python.client import device_lib\n",
    "print(device_lib.list_local_devices())"
   ]
  },
  {
   "cell_type": "markdown",
   "metadata": {},
   "source": [
    "## Dataset\n",
    "We begin by investigating the dataset that will be used to train and evaluate your pipeline.  The most common datasets used for machine translation are from [WMT](http://www.statmt.org/).  However, that will take a long time to train a neural network on.  We'll be using a dataset we created for this project that contains a small vocabulary.  You'll be able to train your model in a reasonable time with this dataset.\n",
    "### Load Data\n",
    "The data is located in `data/small_vocab_en` and `data/small_vocab_fr`. The `small_vocab_en` file contains English sentences with their French translations in the `small_vocab_fr` file. Load the English and French data from these files from running the cell below."
   ]
  },
  {
   "cell_type": "code",
   "execution_count": 6,
   "metadata": {},
   "outputs": [
    {
     "name": "stdout",
     "output_type": "stream",
     "text": [
      "Dataset Loaded\n"
     ]
    }
   ],
   "source": [
    "# Load English data\n",
    "english_sentences = helper.load_data('data/small_vocab_en')\n",
    "# Load French data\n",
    "french_sentences = helper.load_data('data/small_vocab_fr')\n",
    "\n",
    "print('Dataset Loaded')"
   ]
  },
  {
   "cell_type": "markdown",
   "metadata": {},
   "source": [
    "### Files\n",
    "Each line in `small_vocab_en` contains an English sentence with the respective translation in each line of `small_vocab_fr`.  View the first two lines from each file."
   ]
  },
  {
   "cell_type": "code",
   "execution_count": 7,
   "metadata": {},
   "outputs": [
    {
     "name": "stdout",
     "output_type": "stream",
     "text": [
      "small_vocab_en Line 1:  new jersey is sometimes quiet during autumn , and it is snowy in april .\n",
      "small_vocab_fr Line 1:  new jersey est parfois calme pendant l' automne , et il est neigeux en avril .\n",
      "small_vocab_en Line 2:  the united states is usually chilly during july , and it is usually freezing in november .\n",
      "small_vocab_fr Line 2:  les états-unis est généralement froid en juillet , et il gèle habituellement en novembre .\n"
     ]
    }
   ],
   "source": [
    "for sample_i in range(2):\n",
    "    print('small_vocab_en Line {}:  {}'.format(sample_i + 1, english_sentences[sample_i]))\n",
    "    print('small_vocab_fr Line {}:  {}'.format(sample_i + 1, french_sentences[sample_i]))"
   ]
  },
  {
   "cell_type": "markdown",
   "metadata": {},
   "source": [
    "From looking at the sentences, you can see they have been preprocessed already.  The puncuations have been delimited using spaces. All the text have been converted to lowercase.  This should save you some time, but the text requires more preprocessing.\n",
    "### Vocabulary\n",
    "The complexity of the problem is determined by the complexity of the vocabulary.  A more complex vocabulary is a more complex problem.  Let's look at the complexity of the dataset we'll be working with."
   ]
  },
  {
   "cell_type": "code",
   "execution_count": 8,
   "metadata": {},
   "outputs": [
    {
     "name": "stdout",
     "output_type": "stream",
     "text": [
      "1823250 English words.\n",
      "227 unique English words.\n",
      "10 Most common words in the English dataset:\n",
      "\"is\" \",\" \".\" \"in\" \"it\" \"during\" \"the\" \"but\" \"and\" \"sometimes\"\n",
      "\n",
      "1961295 French words.\n",
      "355 unique French words.\n",
      "10 Most common words in the French dataset:\n",
      "\"est\" \".\" \",\" \"en\" \"il\" \"les\" \"mais\" \"et\" \"la\" \"parfois\"\n"
     ]
    }
   ],
   "source": [
    "english_words_counter = collections.Counter([word for sentence in english_sentences for word in sentence.split()])\n",
    "french_words_counter = collections.Counter([word for sentence in french_sentences for word in sentence.split()])\n",
    "\n",
    "print('{} English words.'.format(len([word for sentence in english_sentences for word in sentence.split()])))\n",
    "print('{} unique English words.'.format(len(english_words_counter)))\n",
    "print('10 Most common words in the English dataset:')\n",
    "print('\"' + '\" \"'.join(list(zip(*english_words_counter.most_common(10)))[0]) + '\"')\n",
    "print()\n",
    "print('{} French words.'.format(len([word for sentence in french_sentences for word in sentence.split()])))\n",
    "print('{} unique French words.'.format(len(french_words_counter)))\n",
    "print('10 Most common words in the French dataset:')\n",
    "print('\"' + '\" \"'.join(list(zip(*french_words_counter.most_common(10)))[0]) + '\"')"
   ]
  },
  {
   "cell_type": "markdown",
   "metadata": {},
   "source": [
    "For comparison, _Alice's Adventures in Wonderland_ contains 2,766 unique words of a total of 15,500 words.\n",
    "## Preprocess\n",
    "For this project, you won't use text data as input to your model. Instead, you'll convert the text into sequences of integers using the following preprocess methods:\n",
    "1. Tokenize the words into ids\n",
    "2. Add padding to make all the sequences the same length.\n",
    "\n",
    "Time to start preprocessing the data...\n",
    "### Tokenize (IMPLEMENTATION)\n",
    "For a neural network to predict on text data, it first has to be turned into data it can understand. Text data like \"dog\" is a sequence of ASCII character encodings.  Since a neural network is a series of multiplication and addition operations, the input data needs to be number(s).\n",
    "\n",
    "We can turn each character into a number or each word into a number.  These are called character and word ids, respectively.  Character ids are used for character level models that generate text predictions for each character.  A word level model uses word ids that generate text predictions for each word.  Word level models tend to learn better, since they are lower in complexity, so we'll use those.\n",
    "\n",
    "Turn each sentence into a sequence of words ids using Keras's [`Tokenizer`](https://keras.io/preprocessing/text/#tokenizer) function. Use this function to tokenize `english_sentences` and `french_sentences` in the cell below.\n",
    "\n",
    "Running the cell will run `tokenize` on sample data and show output for debugging."
   ]
  },
  {
   "cell_type": "code",
   "execution_count": 9,
   "metadata": {},
   "outputs": [
    {
     "name": "stdout",
     "output_type": "stream",
     "text": [
      "{'the': 1, 'quick': 2, 'a': 3, 'brown': 4, 'fox': 5, 'jumps': 6, 'over': 7, 'lazy': 8, 'dog': 9, 'by': 10, 'jove': 11, 'my': 12, 'study': 13, 'of': 14, 'lexicography': 15, 'won': 16, 'prize': 17, 'this': 18, 'is': 19, 'short': 20, 'sentence': 21}\n",
      "\n",
      "Sequence 1 in x\n",
      "  Input:  The quick brown fox jumps over the lazy dog .\n",
      "  Output: [1, 2, 4, 5, 6, 7, 1, 8, 9]\n",
      "Sequence 2 in x\n",
      "  Input:  By Jove , my quick study of lexicography won a prize .\n",
      "  Output: [10, 11, 12, 2, 13, 14, 15, 16, 3, 17]\n",
      "Sequence 3 in x\n",
      "  Input:  This is a short sentence .\n",
      "  Output: [18, 19, 3, 20, 21]\n"
     ]
    }
   ],
   "source": [
    "def tokenize(x):\n",
    "    \"\"\"\n",
    "    Tokenize x\n",
    "    :param x: List of sentences/strings to be tokenized\n",
    "    :return: Tuple of (tokenized x data, tokenizer used to tokenize x)\n",
    "    \"\"\"\n",
    "    # TODO: Implement\n",
    "    tokenizer = Tokenizer(num_words=None, char_level=False, split=' ')\n",
    "    tokenizer.fit_on_texts(x)\n",
    "    tokenized= tokenizer.texts_to_sequences(x)\n",
    "    return tokenized, tokenizer\n",
    "tests.test_tokenize(tokenize)\n",
    "\n",
    "# Tokenize Example output\n",
    "text_sentences = [\n",
    "    'The quick brown fox jumps over the lazy dog .',\n",
    "    'By Jove , my quick study of lexicography won a prize .',\n",
    "    'This is a short sentence .']\n",
    "text_tokenized, text_tokenizer = tokenize(text_sentences)\n",
    "print(text_tokenizer.word_index)\n",
    "print()\n",
    "for sample_i, (sent, token_sent) in enumerate(zip(text_sentences, text_tokenized)):\n",
    "    print('Sequence {} in x'.format(sample_i + 1))\n",
    "    print('  Input:  {}'.format(sent))\n",
    "    print('  Output: {}'.format(token_sent))"
   ]
  },
  {
   "cell_type": "markdown",
   "metadata": {},
   "source": [
    "### Padding (IMPLEMENTATION)\n",
    "When batching the sequence of word ids together, each sequence needs to be the same length.  Since sentences are dynamic in length, we can add padding to the end of the sequences to make them the same length.\n",
    "\n",
    "Make sure all the English sequences have the same length and all the French sequences have the same length by adding padding to the **end** of each sequence using Keras's [`pad_sequences`](https://keras.io/preprocessing/sequence/#pad_sequences) function."
   ]
  },
  {
   "cell_type": "code",
   "execution_count": 10,
   "metadata": {},
   "outputs": [
    {
     "name": "stdout",
     "output_type": "stream",
     "text": [
      "Sequence 1 in x\n",
      "  Input:  [1 2 4 5 6 7 1 8 9]\n",
      "  Output: [1 2 4 5 6 7 1 8 9 0]\n",
      "Sequence 2 in x\n",
      "  Input:  [10 11 12  2 13 14 15 16  3 17]\n",
      "  Output: [10 11 12  2 13 14 15 16  3 17]\n",
      "Sequence 3 in x\n",
      "  Input:  [18 19  3 20 21]\n",
      "  Output: [18 19  3 20 21  0  0  0  0  0]\n"
     ]
    }
   ],
   "source": [
    "def pad(x, length=None):\n",
    "    \"\"\"\n",
    "    Pad x\n",
    "    :param x: List of sequences.\n",
    "    :param length: Length to pad the sequence to.  If None, use length of longest sequence in x.\n",
    "    :return: Padded numpy array of sequences\n",
    "    \"\"\"\n",
    "    # TODO: Implement\n",
    "    pad = pad_sequences(x, maxlen=length,padding='post', truncating='post')\n",
    "    return pad\n",
    "tests.test_pad(pad)\n",
    "\n",
    "# Pad Tokenized output\n",
    "test_pad = pad(text_tokenized)\n",
    "for sample_i, (token_sent, pad_sent) in enumerate(zip(text_tokenized, test_pad)):\n",
    "    print('Sequence {} in x'.format(sample_i + 1))\n",
    "    print('  Input:  {}'.format(np.array(token_sent)))\n",
    "    print('  Output: {}'.format(pad_sent))"
   ]
  },
  {
   "cell_type": "markdown",
   "metadata": {},
   "source": [
    "### Preprocess Pipeline\n",
    "Your focus for this project is to build neural network architecture, so we won't ask you to create a preprocess pipeline.  Instead, we've provided you with the implementation of the `preprocess` function."
   ]
  },
  {
   "cell_type": "code",
   "execution_count": 11,
   "metadata": {},
   "outputs": [
    {
     "name": "stdout",
     "output_type": "stream",
     "text": [
      "Data Preprocessed\n",
      "Max English sentence length: 15\n",
      "Max French sentence length: 21\n",
      "English vocabulary size: 199\n",
      "French vocabulary size: 344\n"
     ]
    }
   ],
   "source": [
    "def preprocess(x, y):\n",
    "    \"\"\"\n",
    "    Preprocess x and y\n",
    "    :param x: Feature List of sentences\n",
    "    :param y: Label List of sentences\n",
    "    :return: Tuple of (Preprocessed x, Preprocessed y, x tokenizer, y tokenizer)\n",
    "    \"\"\"\n",
    "    preprocess_x, x_tk = tokenize(x)\n",
    "    preprocess_y, y_tk = tokenize(y)\n",
    "\n",
    "    preprocess_x = pad(preprocess_x)\n",
    "    preprocess_y = pad(preprocess_y)\n",
    "\n",
    "    # Keras's sparse_categorical_crossentropy function requires the labels to be in 3 dimensions\n",
    "    preprocess_y = preprocess_y.reshape(*preprocess_y.shape, 1)\n",
    "\n",
    "    return preprocess_x, preprocess_y, x_tk, y_tk\n",
    "\n",
    "preproc_english_sentences, preproc_french_sentences, english_tokenizer, french_tokenizer =\\\n",
    "    preprocess(english_sentences, french_sentences)\n",
    "    \n",
    "max_english_sequence_length = preproc_english_sentences.shape[1]\n",
    "max_french_sequence_length = preproc_french_sentences.shape[1]\n",
    "english_vocab_size = len(english_tokenizer.word_index)\n",
    "french_vocab_size = len(french_tokenizer.word_index)\n",
    "\n",
    "print('Data Preprocessed')\n",
    "print(\"Max English sentence length:\", max_english_sequence_length)\n",
    "print(\"Max French sentence length:\", max_french_sequence_length)\n",
    "print(\"English vocabulary size:\", english_vocab_size)\n",
    "print(\"French vocabulary size:\", french_vocab_size)"
   ]
  },
  {
   "cell_type": "markdown",
   "metadata": {},
   "source": [
    "## Models\n",
    "In this section, you will experiment with various neural network architectures.\n",
    "You will begin by training four relatively simple architectures.\n",
    "- Model 1 is a simple RNN\n",
    "- Model 2 is a RNN with Embedding\n",
    "- Model 3 is a Bidirectional RNN\n",
    "- Model 4 is an optional Encoder-Decoder RNN\n",
    "\n",
    "After experimenting with the four simple architectures, you will construct a deeper architecture that is designed to outperform all four models.\n",
    "### Ids Back to Text\n",
    "The neural network will be translating the input to words ids, which isn't the final form we want.  We want the French translation.  The function `logits_to_text` will bridge the gab between the logits from the neural network to the French translation.  You'll be using this function to better understand the output of the neural network."
   ]
  },
  {
   "cell_type": "code",
   "execution_count": 12,
   "metadata": {},
   "outputs": [
    {
     "name": "stdout",
     "output_type": "stream",
     "text": [
      "`logits_to_text` function loaded.\n"
     ]
    }
   ],
   "source": [
    "def logits_to_text(logits, tokenizer):\n",
    "    \"\"\"\n",
    "    Turn logits from a neural network into text using the tokenizer\n",
    "    :param logits: Logits from a neural network\n",
    "    :param tokenizer: Keras Tokenizer fit on the labels\n",
    "    :return: String that represents the text of the logits\n",
    "    \"\"\"\n",
    "    index_to_words = {id: word for word, id in tokenizer.word_index.items()}\n",
    "    index_to_words[0] = '<PAD>'\n",
    "\n",
    "    return ' '.join([index_to_words[prediction] for prediction in np.argmax(logits, 1)])\n",
    "\n",
    "print('`logits_to_text` function loaded.')"
   ]
  },
  {
   "cell_type": "markdown",
   "metadata": {},
   "source": [
    "### Model 1: RNN (IMPLEMENTATION)\n",
    "![RNN](images/rnn.png)\n",
    "A basic RNN model is a good baseline for sequence data.  In this model, you'll build a RNN that translates English to French."
   ]
  },
  {
   "cell_type": "code",
   "execution_count": 13,
   "metadata": {},
   "outputs": [
    {
     "name": "stdout",
     "output_type": "stream",
     "text": [
      "Train on 110288 samples, validate on 27573 samples\n",
      "Epoch 1/10\n",
      "110288/110288 [==============================] - 17s 157us/step - loss: 2.1014 - acc: 0.5237 - val_loss: nan - val_acc: 0.6118\n",
      "Epoch 2/10\n",
      "110288/110288 [==============================] - 15s 134us/step - loss: 1.2985 - acc: 0.6321 - val_loss: nan - val_acc: 0.6405\n",
      "Epoch 3/10\n",
      "110288/110288 [==============================] - 15s 133us/step - loss: 1.1118 - acc: 0.6725 - val_loss: nan - val_acc: 0.6917\n",
      "Epoch 4/10\n",
      "110288/110288 [==============================] - 15s 132us/step - loss: 1.0153 - acc: 0.6927 - val_loss: nan - val_acc: 0.7118\n",
      "Epoch 5/10\n",
      "110288/110288 [==============================] - 15s 134us/step - loss: 0.9581 - acc: 0.7061 - val_loss: nan - val_acc: 0.7252\n",
      "Epoch 6/10\n",
      "110288/110288 [==============================] - 15s 137us/step - loss: 0.8655 - acc: 0.7313 - val_loss: nan - val_acc: 0.7347\n",
      "Epoch 7/10\n",
      "110288/110288 [==============================] - 15s 133us/step - loss: 0.8870 - acc: 0.7196 - val_loss: nan - val_acc: 0.7216\n",
      "Epoch 8/10\n",
      "110288/110288 [==============================] - 15s 133us/step - loss: 0.8477 - acc: 0.7277 - val_loss: nan - val_acc: 0.7518\n",
      "Epoch 9/10\n",
      "110288/110288 [==============================] - 15s 133us/step - loss: 0.7866 - acc: 0.7445 - val_loss: nan - val_acc: 0.7561\n",
      "Epoch 10/10\n",
      "110288/110288 [==============================] - 15s 133us/step - loss: 0.7457 - acc: 0.7540 - val_loss: nan - val_acc: 0.7560\n",
      "new jersey est parfois parfois en mois et il est il en en <PAD> <PAD> <PAD> <PAD> <PAD> <PAD> <PAD> <PAD>\n"
     ]
    }
   ],
   "source": [
    "from keras.models import Sequential\n",
    "from keras.layers import GRU, Dense, Activation, RNN, TimeDistributed, Dropout,LSTM\n",
    "\n",
    "def simple_model(input_shape, output_sequence_length, english_vocab_size, french_vocab_size):\n",
    "    \"\"\"\n",
    "    Build and train a basic RNN on x and y\n",
    "    :param input_shape: Tuple of input shape\n",
    "    :param output_sequence_length: Length of output sequence\n",
    "    :param english_vocab_size: Number of unique English words in the dataset\n",
    "    :param french_vocab_size: Number of unique French words in the dataset\n",
    "    :return: Keras model built, but not trained\n",
    "    \"\"\"\n",
    "    # TODO: Build the layers\n",
    "    model = Sequential()\n",
    "    model.add(LSTM(128, input_shape=input_shape[1:], return_sequences=True))\n",
    "    model.add(LSTM(128, return_sequences=True))\n",
    "    model.add(TimeDistributed(Dense(french_vocab_size , activation='softmax')))\n",
    "    learning_rate=0.01\n",
    "    model.compile(loss=sparse_categorical_crossentropy,\n",
    "                  optimizer=Adam(learning_rate),\n",
    "                  metrics=['accuracy'])\n",
    "    return model\n",
    "tests.test_simple_model(simple_model)\n",
    "\n",
    "# Reshaping the input to work with a basic RNN\n",
    "tmp_x = pad(preproc_english_sentences, max_french_sequence_length)\n",
    "tmp_x = tmp_x.reshape((-1, preproc_french_sentences.shape[-2], 1))\n",
    "\n",
    "# Train the neural network\n",
    "simple_rnn_model = simple_model(\n",
    "    tmp_x.shape,\n",
    "    max_french_sequence_length,\n",
    "    english_vocab_size,\n",
    "    french_vocab_size)\n",
    "simple_rnn_model.fit(tmp_x, preproc_french_sentences, batch_size=1024, epochs=10, validation_split=0.2)\n",
    "\n",
    "# Print prediction(s)\n",
    "print(logits_to_text(simple_rnn_model.predict(tmp_x[:1])[0], french_tokenizer))"
   ]
  },
  {
   "cell_type": "markdown",
   "metadata": {},
   "source": [
    "### Model 2: Embedding (IMPLEMENTATION)\n",
    "![RNN](images/embedding.png)\n",
    "You've turned the words into ids, but there's a better representation of a word.  This is called word embeddings.  An embedding is a vector representation of the word that is close to similar words in n-dimensional space, where the n represents the size of the embedding vectors.\n",
    "\n",
    "In this model, you'll create a RNN model using embedding."
   ]
  },
  {
   "cell_type": "code",
   "execution_count": 14,
   "metadata": {},
   "outputs": [
    {
     "name": "stdout",
     "output_type": "stream",
     "text": [
      "_________________________________________________________________\n",
      "Layer (type)                 Output Shape              Param #   \n",
      "=================================================================\n",
      "embedding_2 (Embedding)      (None, 21, 100)           19900     \n",
      "_________________________________________________________________\n",
      "gru_2 (GRU)                  (None, 21, 256)           274176    \n",
      "_________________________________________________________________\n",
      "time_distributed_4 (TimeDist (None, 21, 344)           88408     \n",
      "=================================================================\n",
      "Total params: 382,484\n",
      "Trainable params: 382,484\n",
      "Non-trainable params: 0\n",
      "_________________________________________________________________\n",
      "None\n",
      "Train on 110288 samples, validate on 27573 samples\n",
      "Epoch 1/10\n",
      "110288/110288 [==============================] - 12s 111us/step - loss: 1.8338 - acc: 0.6170 - val_loss: nan - val_acc: 0.8199\n",
      "Epoch 2/10\n",
      "110288/110288 [==============================] - 12s 107us/step - loss: 0.3941 - acc: 0.8772 - val_loss: nan - val_acc: 0.9050\n",
      "Epoch 3/10\n",
      "110288/110288 [==============================] - 12s 107us/step - loss: 0.2691 - acc: 0.9118 - val_loss: nan - val_acc: 0.9171\n",
      "Epoch 4/10\n",
      "110288/110288 [==============================] - 12s 107us/step - loss: 0.2303 - acc: 0.9226 - val_loss: nan - val_acc: 0.9207\n",
      "Epoch 5/10\n",
      "110288/110288 [==============================] - 12s 107us/step - loss: 0.2170 - acc: 0.9260 - val_loss: nan - val_acc: 0.9262\n",
      "Epoch 6/10\n",
      "110288/110288 [==============================] - 12s 107us/step - loss: 0.2011 - acc: 0.9303 - val_loss: nan - val_acc: 0.9285\n",
      "Epoch 7/10\n",
      "110288/110288 [==============================] - 12s 107us/step - loss: 0.1928 - acc: 0.9324 - val_loss: nan - val_acc: 0.9316\n",
      "Epoch 8/10\n",
      "110288/110288 [==============================] - 12s 107us/step - loss: 0.1975 - acc: 0.9312 - val_loss: nan - val_acc: 0.9289\n",
      "Epoch 9/10\n",
      "110288/110288 [==============================] - 12s 107us/step - loss: 0.1893 - acc: 0.9334 - val_loss: nan - val_acc: 0.9302\n",
      "Epoch 10/10\n",
      "110288/110288 [==============================] - 12s 107us/step - loss: 0.1852 - acc: 0.9345 - val_loss: nan - val_acc: 0.9331\n",
      "---Orginal translation---\n",
      "[\"new jersey est parfois calme pendant l' automne , et il est neigeux en avril .\"]\n",
      "--------Prediction-------\n",
      "new jersey est parfois calme en l' automne et il est neigeux en avril <PAD> <PAD> <PAD> <PAD> <PAD> <PAD> <PAD>\n"
     ]
    }
   ],
   "source": [
    "from keras.models import Sequential\n",
    "from keras.layers import GRU, Dense, Activation, RNN, TimeDistributed, Dropout,LSTM, Embedding\n",
    "\n",
    "def embed_model(input_shape, output_sequence_length, english_vocab_size, french_vocab_size):\n",
    "    \"\"\"\n",
    "    Build and train a RNN model using word embedding on x and y\n",
    "    :param input_shape: Tuple of input shape\n",
    "    :param output_sequence_length: Length of output sequence\n",
    "    :param english_vocab_size: Number of unique English words in the dataset\n",
    "    :param french_vocab_size: Number of unique French words in the dataset\n",
    "    :return: Keras model built, but not trained\n",
    "    \"\"\"\n",
    "    # TODO: Implement\n",
    "    model= Sequential()\n",
    "    model.add(Embedding(english_vocab_size, 100, input_length=input_shape[1] ))\n",
    "    model.add(GRU(256,return_sequences=True))\n",
    "    model.add(TimeDistributed(Dense(french_vocab_size, activation='softmax')))\n",
    "    learning_rate=0.01\n",
    "    model.compile(loss=sparse_categorical_crossentropy,\n",
    "                  optimizer=Adam(learning_rate),\n",
    "                  metrics=['accuracy'])\n",
    "    return model\n",
    "tests.test_embed_model(embed_model)\n",
    "\n",
    "\n",
    "# TODO: Reshape the input\n",
    "tmp_x = pad(preproc_english_sentences, preproc_french_sentences.shape[1])\n",
    "\n",
    "# TODO: Train the neural network\n",
    "embed_GRU = embed_model(\n",
    "    tmp_x.shape,\n",
    "    max_french_sequence_length,\n",
    "    english_vocab_size,\n",
    "    french_vocab_size)\n",
    "print(embed_GRU.summary())\n",
    "embed_GRU.fit(tmp_x,preproc_french_sentences, batch_size=1024, epochs=10, validation_split=0.2)\n",
    "# TODO: Print prediction(s)\n",
    "print(\"---Orginal translation---\")\n",
    "print(french_sentences[:1])\n",
    "print(\"--------Prediction-------\")\n",
    "print(logits_to_text(embed_GRU.predict(tmp_x[:1])[0], french_tokenizer))"
   ]
  },
  {
   "cell_type": "markdown",
   "metadata": {},
   "source": [
    "### Model 3: Bidirectional RNNs (IMPLEMENTATION)\n",
    "![RNN](images/bidirectional.png)\n",
    "One restriction of a RNN is that it can't see the future input, only the past.  This is where bidirectional recurrent neural networks come in.  They are able to see the future data."
   ]
  },
  {
   "cell_type": "code",
   "execution_count": 15,
   "metadata": {},
   "outputs": [
    {
     "name": "stdout",
     "output_type": "stream",
     "text": [
      "_________________________________________________________________\n",
      "Layer (type)                 Output Shape              Param #   \n",
      "=================================================================\n",
      "bidirectional_2 (Bidirection (None, 21, 512)           396288    \n",
      "_________________________________________________________________\n",
      "time_distributed_6 (TimeDist (None, 21, 344)           176472    \n",
      "=================================================================\n",
      "Total params: 572,760\n",
      "Trainable params: 572,760\n",
      "Non-trainable params: 0\n",
      "_________________________________________________________________\n",
      "None\n",
      "Train on 110288 samples, validate on 27573 samples\n",
      "Epoch 1/10\n",
      "110288/110288 [==============================] - 18s 163us/step - loss: 1.4723 - acc: 0.6155 - val_loss: nan - val_acc: 0.6685\n",
      "Epoch 2/10\n",
      "110288/110288 [==============================] - 17s 158us/step - loss: 0.9884 - acc: 0.6861 - val_loss: nan - val_acc: 0.7005\n",
      "Epoch 3/10\n",
      "110288/110288 [==============================] - 17s 158us/step - loss: 0.8643 - acc: 0.7068 - val_loss: nan - val_acc: 0.7141\n",
      "Epoch 4/10\n",
      "110288/110288 [==============================] - 17s 158us/step - loss: 0.7980 - acc: 0.7210 - val_loss: nan - val_acc: 0.7318\n",
      "Epoch 5/10\n",
      "110288/110288 [==============================] - 17s 158us/step - loss: 0.7488 - acc: 0.7352 - val_loss: nan - val_acc: 0.7443\n",
      "Epoch 6/10\n",
      "110288/110288 [==============================] - 17s 158us/step - loss: 0.6823 - acc: 0.7605 - val_loss: nan - val_acc: 0.7898\n",
      "Epoch 7/10\n",
      "110288/110288 [==============================] - 17s 158us/step - loss: 0.6581 - acc: 0.7720 - val_loss: nan - val_acc: 0.7736\n",
      "Epoch 8/10\n",
      "110288/110288 [==============================] - 17s 158us/step - loss: 0.6292 - acc: 0.7828 - val_loss: nan - val_acc: 0.7822\n",
      "Epoch 9/10\n",
      "110288/110288 [==============================] - 17s 157us/step - loss: 0.5932 - acc: 0.7939 - val_loss: nan - val_acc: 0.7448\n",
      "Epoch 10/10\n",
      "110288/110288 [==============================] - 17s 158us/step - loss: 0.5965 - acc: 0.7912 - val_loss: nan - val_acc: 0.8124\n",
      "---Orginal translation---\n",
      "[\"new jersey est parfois calme pendant l' automne , et il est neigeux en avril .\"]\n",
      "--------Prediction-------\n",
      "new jersey est parfois calme pendant mars et il est et en juillet <PAD> <PAD> <PAD> <PAD> <PAD> <PAD> <PAD> <PAD>\n"
     ]
    }
   ],
   "source": [
    "from keras.models import Sequential\n",
    "from keras.layers import GRU, Dense, Activation, RNN, TimeDistributed, Dropout,LSTM, Embedding, Bidirectional\n",
    "def bd_model(input_shape, output_sequence_length, english_vocab_size, french_vocab_size):\n",
    "    \"\"\"\n",
    "    Build and train a bidirectional RNN model on x and y\n",
    "    :param input_shape: Tuple of input shape\n",
    "    :param output_sequence_length: Length of output sequence\n",
    "    :param english_vocab_size: Number of unique English words in the dataset\n",
    "    :param french_vocab_size: Number of unique French words in the dataset\n",
    "    :return: Keras model built, but not trained\n",
    "    \"\"\"\n",
    "    # TODO: Implement\n",
    "    model = Sequential()\n",
    "    model.add(Bidirectional(GRU(256, return_sequences=True), input_shape=input_shape[1:]))\n",
    "    model.add(TimeDistributed(Dense(french_vocab_size , activation='softmax')))\n",
    "    learning_rate=0.01\n",
    "    model.compile(loss=sparse_categorical_crossentropy,\n",
    "                  optimizer=Adam(learning_rate),\n",
    "                  metrics=['accuracy'])\n",
    "    return model\n",
    "tests.test_bd_model(bd_model)\n",
    "              \n",
    "tmp_x = pad(preproc_english_sentences, max_french_sequence_length)\n",
    "tmp_x = tmp_x.reshape((-1, preproc_french_sentences.shape[-2], 1))\n",
    "\n",
    "# Train the neural network\n",
    "bd_GRU = bd_model(\n",
    "    tmp_x.shape,\n",
    "    max_french_sequence_length,\n",
    "    english_vocab_size,\n",
    "    french_vocab_size)\n",
    "print(bd_GRU.summary())  \n",
    "bd_GRU.fit(tmp_x, preproc_french_sentences, batch_size=1024, epochs=10, validation_split=0.2)\n",
    " \n",
    "\n",
    "# TODO: Train and Print prediction(s)\n",
    "#bd_LSTM.fit(tmp_x,preproc_french_sentences, batch_size=1024, epochs=10, validation_split=0.2)\n",
    "\n",
    "print(\"---Orginal translation---\")\n",
    "print(french_sentences[:1])\n",
    "print(\"--------Prediction-------\")\n",
    "print(logits_to_text(bd_GRU.predict(tmp_x[:1])[0], french_tokenizer))\n",
    "\n"
   ]
  },
  {
   "cell_type": "markdown",
   "metadata": {},
   "source": [
    "### Model 4: Encoder-Decoder (OPTIONAL)\n",
    "Time to look at encoder-decoder models.  This model is made up of an encoder and decoder. The encoder creates a matrix representation of the sentence.  The decoder takes this matrix as input and predicts the translation as output.\n",
    "\n",
    "Create an encoder-decoder model in the cell below."
   ]
  },
  {
   "cell_type": "code",
   "execution_count": 16,
   "metadata": {},
   "outputs": [
    {
     "name": "stdout",
     "output_type": "stream",
     "text": [
      "(137861, 15, 1)\n",
      "_________________________________________________________________\n",
      "Layer (type)                 Output Shape              Param #   \n",
      "=================================================================\n",
      "lstm_7 (LSTM)                (None, 15, 128)           66560     \n",
      "_________________________________________________________________\n",
      "gru_7 (GRU)                  (None, 64)                37056     \n",
      "_________________________________________________________________\n",
      "dense_9 (Dense)              (None, 64)                4160      \n",
      "_________________________________________________________________\n",
      "repeat_vector_2 (RepeatVecto (None, 21, 64)            0         \n",
      "_________________________________________________________________\n",
      "lstm_8 (LSTM)                (None, 21, 64)            33024     \n",
      "_________________________________________________________________\n",
      "gru_8 (GRU)                  (None, 21, 128)           74112     \n",
      "_________________________________________________________________\n",
      "time_distributed_8 (TimeDist (None, 21, 344)           44376     \n",
      "=================================================================\n",
      "Total params: 259,288\n",
      "Trainable params: 259,288\n",
      "Non-trainable params: 0\n",
      "_________________________________________________________________\n",
      "None\n",
      "Train on 110288 samples, validate on 27573 samples\n",
      "Epoch 1/10\n",
      "110288/110288 [==============================] - 21s 190us/step - loss: 2.6344 - acc: 0.4606 - val_loss: nan - val_acc: 0.5297\n",
      "Epoch 2/10\n",
      "110288/110288 [==============================] - 20s 180us/step - loss: 1.8838 - acc: 0.5418 - val_loss: nan - val_acc: 0.5723\n",
      "Epoch 3/10\n",
      "110288/110288 [==============================] - 20s 180us/step - loss: 1.5497 - acc: 0.5879 - val_loss: nan - val_acc: 0.5988\n",
      "Epoch 4/10\n",
      "110288/110288 [==============================] - 20s 181us/step - loss: 1.4012 - acc: 0.6126 - val_loss: nan - val_acc: 0.6258\n",
      "Epoch 5/10\n",
      "110288/110288 [==============================] - 20s 179us/step - loss: 1.3322 - acc: 0.6225 - val_loss: nan - val_acc: 0.6383\n",
      "Epoch 6/10\n",
      "110288/110288 [==============================] - 20s 181us/step - loss: 1.2927 - acc: 0.6322 - val_loss: nan - val_acc: 0.6351\n",
      "Epoch 7/10\n",
      "110288/110288 [==============================] - 20s 180us/step - loss: 1.3664 - acc: 0.6180 - val_loss: nan - val_acc: 0.6122\n",
      "Epoch 8/10\n",
      "110288/110288 [==============================] - 20s 180us/step - loss: 1.2503 - acc: 0.6406 - val_loss: nan - val_acc: 0.6538\n",
      "Epoch 9/10\n",
      "110288/110288 [==============================] - 20s 178us/step - loss: 1.1947 - acc: 0.6533 - val_loss: nan - val_acc: 0.6555\n",
      "Epoch 10/10\n",
      "110288/110288 [==============================] - 20s 180us/step - loss: 1.1631 - acc: 0.6607 - val_loss: nan - val_acc: 0.6663\n",
      "---Orginal translation---\n",
      "[\"new jersey est parfois calme pendant l' automne , et il est neigeux en avril .\"]\n",
      "--------Prediction-------\n",
      "new jersey est généralement agréable en mois et il est il en en <PAD> <PAD> <PAD> <PAD> <PAD> <PAD> <PAD> <PAD>\n"
     ]
    }
   ],
   "source": [
    "\n",
    "\n",
    "from keras.models import Model, Sequential\n",
    "from keras.layers import Input, LSTM, Dense, RepeatVector\n",
    "\n",
    "def encdec_model(input_shape, output_sequence_length, english_vocab_size, french_vocab_size):\n",
    "    \"\"\"\n",
    "    Build and train an encoder-decoder model on x and y\n",
    "    :param input_shape: Tuple of input shape\n",
    "    :param output_sequence_length: Length of output sequence\n",
    "    :param english_vocab_size: Number of unique English words in the dataset\n",
    "    :param french_vocab_size: Number of unique French words in the dataset\n",
    "    :return: Keras model built, but not trained\n",
    "    \"\"\"\n",
    "    # OPTIONAL: Implement\n",
    "#     encoder_inputs = Input(shape=(15,1))\n",
    "#     encoder_LSTM = LSTM(256, return_state=True)\n",
    "#     encoder_outputs, state_h, state_c = encoder_LSTM(encoder_inputs)\n",
    "#     print(state_h.shape, state_c.shape)\n",
    "    model=Sequential()\n",
    "    #encoder\n",
    "    model.add(LSTM(128, input_shape= input_shape[1:], return_sequences= True))\n",
    "    model.add(GRU(64, return_sequences=False))\n",
    "    model.add(Dense(64, activation='relu'))\n",
    "    model.add(RepeatVector(output_sequence_length))\n",
    "    #decoder\n",
    "    model.add(LSTM(64, return_sequences=True))\n",
    "    model.add(GRU(128, return_sequences=True))\n",
    "    model.add(TimeDistributed(Dense(french_vocab_size, activation='softmax')))\n",
    "    learning_rate=0.01\n",
    "    model.compile(loss=sparse_categorical_crossentropy,\n",
    "                  optimizer=Adam(learning_rate),\n",
    "                  metrics=['accuracy'])\n",
    "    return model\n",
    "tests.test_encdec_model(encdec_model)\n",
    "\n",
    "\n",
    "tmp_x = pad(preproc_english_sentences, max_english_sequence_length)\n",
    "tmp_x = tmp_x.reshape((-1, preproc_english_sentences.shape[-1], 1))\n",
    "print(tmp_x.shape)\n",
    "# OPTIONAL: Train and Print prediction(s)\n",
    "ed_model = encdec_model(\n",
    "    tmp_x.shape,\n",
    "    max_french_sequence_length,\n",
    "    english_vocab_size,\n",
    "    french_vocab_size)\n",
    "print(ed_model.summary())  \n",
    "ed_model.fit(tmp_x, preproc_french_sentences, batch_size=1024, epochs=10, validation_split=0.2)\n",
    " \n",
    "#Testing predictions\n",
    "\n",
    "print(\"---Orginal translation---\")\n",
    "print(french_sentences[:1])\n",
    "print(\"--------Prediction-------\")\n",
    "print(logits_to_text(ed_model.predict(tmp_x[:1])[0], french_tokenizer))"
   ]
  },
  {
   "cell_type": "markdown",
   "metadata": {},
   "source": [
    "### Model 5: Custom (IMPLEMENTATION)\n",
    "Use everything you learned from the previous models to create a model that incorporates embedding and a bidirectional rnn into one model."
   ]
  },
  {
   "cell_type": "code",
   "execution_count": 25,
   "metadata": {},
   "outputs": [
    {
     "name": "stdout",
     "output_type": "stream",
     "text": [
      "_________________________________________________________________\n",
      "Layer (type)                 Output Shape              Param #   \n",
      "=================================================================\n",
      "embedding_10 (Embedding)     (None, 21, 100)           34400     \n",
      "_________________________________________________________________\n",
      "bidirectional_17 (Bidirectio (None, 512)               548352    \n",
      "_________________________________________________________________\n",
      "repeat_vector_10 (RepeatVect (None, 21, 512)           0         \n",
      "_________________________________________________________________\n",
      "bidirectional_18 (Bidirectio (None, 21, 512)           1181184   \n",
      "_________________________________________________________________\n",
      "time_distributed_21 (TimeDis (None, 21, 344)           176472    \n",
      "=================================================================\n",
      "Total params: 1,940,408\n",
      "Trainable params: 1,940,408\n",
      "Non-trainable params: 0\n",
      "_________________________________________________________________\n",
      "None\n",
      "Final Model Loaded\n"
     ]
    }
   ],
   "source": [
    "from keras.models import Sequential\n",
    "from keras.layers import GRU, Dense, Activation, RNN, TimeDistributed, Dropout,LSTM, Embedding, Bidirectional\n",
    "\n",
    "\n",
    "def model_final(input_shape, output_sequence_length, english_vocab_size, french_vocab_size):\n",
    "    \"\"\"\n",
    "    Build and train a model that incorporates embedding, encoder-decoder, and bidirectional RNN on x and y\n",
    "    :param input_shape: Tuple of input shape\n",
    "    :param output_sequence_length: Length of output sequence\n",
    "    :param english_vocab_size: Number of unique English words in the dataset\n",
    "    :param french_vocab_size: Number of unique French words in the dataset\n",
    "    :return: Keras model built, but not trained\n",
    "    \"\"\"\n",
    "    # TODO: Implement\n",
    "    model=Sequential()\n",
    "    #print(input_shape[1], output_sequence_length)\n",
    "    model.add(Embedding(french_vocab_size, 100, input_length=output_sequence_length,input_shape=input_shape[1:]))\n",
    "    model.add(Bidirectional(GRU(256, return_sequences=False)))\n",
    "    model.add(RepeatVector(output_sequence_length))\n",
    "    model.add(Bidirectional(GRU(256, return_sequences=True)))\n",
    "    model.add(TimeDistributed(Dense(french_vocab_size , activation='softmax')))\n",
    "    learning_rate=0.01\n",
    "    model.compile(loss=sparse_categorical_crossentropy,\n",
    "                  optimizer=Adam(learning_rate),\n",
    "                  metrics=['accuracy'])\n",
    "    print(model.summary())\n",
    "    \n",
    "    return model#, checkpoint\n",
    "tests.test_model_final(model_final)\n",
    "\n",
    "\n",
    "\n",
    "print('Final Model Loaded')\n"
   ]
  },
  {
   "cell_type": "markdown",
   "metadata": {},
   "source": [
    "## Prediction (IMPLEMENTATION)"
   ]
  },
  {
   "cell_type": "code",
   "execution_count": 26,
   "metadata": {},
   "outputs": [
    {
     "name": "stdout",
     "output_type": "stream",
     "text": [
      "_________________________________________________________________\n",
      "Layer (type)                 Output Shape              Param #   \n",
      "=================================================================\n",
      "embedding_11 (Embedding)     (None, 21, 100)           34500     \n",
      "_________________________________________________________________\n",
      "bidirectional_19 (Bidirectio (None, 512)               548352    \n",
      "_________________________________________________________________\n",
      "repeat_vector_11 (RepeatVect (None, 21, 512)           0         \n",
      "_________________________________________________________________\n",
      "bidirectional_20 (Bidirectio (None, 21, 512)           1181184   \n",
      "_________________________________________________________________\n",
      "time_distributed_22 (TimeDis (None, 21, 345)           176985    \n",
      "=================================================================\n",
      "Total params: 1,941,021\n",
      "Trainable params: 1,941,021\n",
      "Non-trainable params: 0\n",
      "_________________________________________________________________\n",
      "None\n",
      "Train on 110288 samples, validate on 27573 samples\n",
      "Epoch 1/20\n",
      "109568/110288 [============================>.] - ETA: 0s - loss: 2.1608 - acc: 0.5246Epoch 00001: val_loss improved from inf to 1.20853, saving model to weights-improvement.hdf5\n",
      "110288/110288 [==============================] - 42s 380us/step - loss: 2.1545 - acc: 0.5256 - val_loss: 1.2085 - val_acc: 0.6724\n",
      "Epoch 2/20\n",
      "109568/110288 [============================>.] - ETA: 0s - loss: 0.8531 - acc: 0.7569Epoch 00002: val_loss improved from 1.20853 to 0.59614, saving model to weights-improvement.hdf5\n",
      "110288/110288 [==============================] - 39s 350us/step - loss: 0.8512 - acc: 0.7574 - val_loss: 0.5961 - val_acc: 0.8203\n",
      "Epoch 3/20\n",
      "109568/110288 [============================>.] - ETA: 0s - loss: 0.4294 - acc: 0.8715Epoch 00003: val_loss improved from 0.59614 to 0.28464, saving model to weights-improvement.hdf5\n",
      "110288/110288 [==============================] - 39s 350us/step - loss: 0.4283 - acc: 0.8719 - val_loss: 0.2846 - val_acc: 0.9187\n",
      "Epoch 4/20\n",
      "109568/110288 [============================>.] - ETA: 0s - loss: 0.2265 - acc: 0.9353Epoch 00004: val_loss improved from 0.28464 to 0.21224, saving model to weights-improvement.hdf5\n",
      "110288/110288 [==============================] - 39s 351us/step - loss: 0.2266 - acc: 0.9353 - val_loss: 0.2122 - val_acc: 0.9392\n",
      "Epoch 5/20\n",
      "109568/110288 [============================>.] - ETA: 0s - loss: 0.1572 - acc: 0.9541Epoch 00005: val_loss improved from 0.21224 to 0.13928, saving model to weights-improvement.hdf5\n",
      "110288/110288 [==============================] - 39s 352us/step - loss: 0.1571 - acc: 0.9541 - val_loss: 0.1393 - val_acc: 0.9593\n",
      "Epoch 6/20\n",
      "109568/110288 [============================>.] - ETA: 0s - loss: 0.1243 - acc: 0.9631Epoch 00006: val_loss improved from 0.13928 to 0.11740, saving model to weights-improvement.hdf5\n",
      "110288/110288 [==============================] - 39s 351us/step - loss: 0.1242 - acc: 0.9632 - val_loss: 0.1174 - val_acc: 0.9654\n",
      "Epoch 7/20\n",
      "109568/110288 [============================>.] - ETA: 0s - loss: 0.0995 - acc: 0.9704Epoch 00007: val_loss did not improve\n",
      "110288/110288 [==============================] - 39s 350us/step - loss: 0.0994 - acc: 0.9705 - val_loss: 0.1214 - val_acc: 0.9642\n",
      "Epoch 8/20\n",
      "109568/110288 [============================>.] - ETA: 0s - loss: 0.1082 - acc: 0.9677Epoch 00008: val_loss did not improve\n",
      "110288/110288 [==============================] - 39s 350us/step - loss: 0.1084 - acc: 0.9676 - val_loss: 0.1316 - val_acc: 0.9608\n",
      "Epoch 9/20\n",
      "109568/110288 [============================>.] - ETA: 0s - loss: 0.1019 - acc: 0.9698Epoch 00009: val_loss improved from 0.11740 to 0.10537, saving model to weights-improvement.hdf5\n",
      "110288/110288 [==============================] - 39s 351us/step - loss: 0.1020 - acc: 0.9697 - val_loss: 0.1054 - val_acc: 0.9696\n",
      "Epoch 10/20\n",
      "109568/110288 [============================>.] - ETA: 0s - loss: 0.0787 - acc: 0.9766Epoch 00010: val_loss improved from 0.10537 to 0.09100, saving model to weights-improvement.hdf5\n",
      "110288/110288 [==============================] - 39s 352us/step - loss: 0.0787 - acc: 0.9767 - val_loss: 0.0910 - val_acc: 0.9740\n",
      "Epoch 11/20\n",
      "109568/110288 [============================>.] - ETA: 0s - loss: 0.0635 - acc: 0.9810Epoch 00011: val_loss did not improve\n",
      "110288/110288 [==============================] - 39s 351us/step - loss: 0.0637 - acc: 0.9810 - val_loss: 0.0935 - val_acc: 0.9745\n",
      "Epoch 12/20\n",
      "109568/110288 [============================>.] - ETA: 0s - loss: 0.0834 - acc: 0.9751Epoch 00012: val_loss did not improve\n",
      "110288/110288 [==============================] - 39s 352us/step - loss: 0.0837 - acc: 0.9751 - val_loss: 0.1147 - val_acc: 0.9676\n",
      "Epoch 13/20\n",
      "109568/110288 [============================>.] - ETA: 0s - loss: 0.0810 - acc: 0.9761Epoch 00013: val_loss did not improve\n",
      "110288/110288 [==============================] - 39s 350us/step - loss: 0.0811 - acc: 0.9760 - val_loss: 0.1035 - val_acc: 0.9710\n",
      "Epoch 14/20\n",
      "109568/110288 [============================>.] - ETA: 0s - loss: 0.0778 - acc: 0.9769Epoch 00014: val_loss did not improve\n",
      "110288/110288 [==============================] - 39s 350us/step - loss: 0.0778 - acc: 0.9769 - val_loss: 0.1015 - val_acc: 0.9719\n",
      "Epoch 15/20\n",
      "109568/110288 [============================>.] - ETA: 0s - loss: 0.0645 - acc: 0.9807Epoch 00015: val_loss improved from 0.09100 to 0.08428, saving model to weights-improvement.hdf5\n",
      "110288/110288 [==============================] - 39s 353us/step - loss: 0.0645 - acc: 0.9807 - val_loss: 0.0843 - val_acc: 0.9774\n",
      "Epoch 16/20\n",
      "109568/110288 [============================>.] - ETA: 0s - loss: 0.0752 - acc: 0.9779Epoch 00016: val_loss did not improve\n",
      "110288/110288 [==============================] - 39s 352us/step - loss: 0.0754 - acc: 0.9778 - val_loss: 0.1160 - val_acc: 0.9668\n",
      "Epoch 17/20\n",
      "109568/110288 [============================>.] - ETA: 0s - loss: 0.0819 - acc: 0.9758Epoch 00017: val_loss did not improve\n",
      "110288/110288 [==============================] - 39s 351us/step - loss: 0.0821 - acc: 0.9758 - val_loss: 0.1075 - val_acc: 0.9705\n",
      "Epoch 18/20\n",
      "109568/110288 [============================>.] - ETA: 0s - loss: 0.0942 - acc: 0.9721Epoch 00018: val_loss did not improve\n",
      "110288/110288 [==============================] - 39s 350us/step - loss: 0.0941 - acc: 0.9721 - val_loss: 0.1125 - val_acc: 0.9687\n",
      "Epoch 19/20\n",
      "109568/110288 [============================>.] - ETA: 0s - loss: 0.0846 - acc: 0.9749Epoch 00019: val_loss did not improve\n",
      "110288/110288 [==============================] - 39s 351us/step - loss: 0.0845 - acc: 0.9749 - val_loss: 0.0945 - val_acc: 0.9736\n",
      "Epoch 20/20\n",
      "109568/110288 [============================>.] - ETA: 0s - loss: 0.0652 - acc: 0.9808Epoch 00020: val_loss did not improve\n",
      "110288/110288 [==============================] - 39s 350us/step - loss: 0.0652 - acc: 0.9808 - val_loss: 0.0896 - val_acc: 0.9758\n",
      "Sample 1:\n",
      "il a vu un vieux camion jaune <PAD> <PAD> <PAD> <PAD> <PAD> <PAD> <PAD> <PAD> <PAD> <PAD> <PAD> <PAD> <PAD> <PAD>\n",
      "Il a vu un vieux camion jaune\n",
      "Sample 2:\n",
      "new jersey est parfois calme pendant l' automne et il est neigeux en avril <PAD> <PAD> <PAD> <PAD> <PAD> <PAD> <PAD>\n",
      "new jersey est parfois calme pendant l' automne et il est neigeux en avril <PAD> <PAD> <PAD> <PAD> <PAD> <PAD> <PAD>\n"
     ]
    }
   ],
   "source": [
    "from keras.callbacks import ModelCheckpoint,EarlyStopping\n",
    "def final_predictions(x, y, x_tk, y_tk):\n",
    "    \"\"\"\n",
    "    Gets predictions using the final model\n",
    "    :param x: Preprocessed English data\n",
    "    :param y: Preprocessed French data\n",
    "    :param x_tk: English tokenizer\n",
    "    :param y_tk: French tokenizer\n",
    "    \"\"\"\n",
    "    # TODO: Train neural network using model_final\n",
    "    model = model_final(x.shape,y.shape[1],len(x_tk.word_index) + 1,len(y_tk.word_index) + 1)\n",
    "    \n",
    "    filepath=\"weights-improvement.hdf5\"\n",
    "    checkpoint = [ModelCheckpoint(filepath, monitor='val_loss', verbose=1, save_best_only=True, mode='min')]\n",
    "\n",
    "    model.fit(x,y,batch_size=1024, epochs=20, validation_split=0.2, callbacks=checkpoint)\n",
    "    ## DON'T EDIT ANYTHING BELOW THIS LINE\n",
    "    y_id_to_word = {value: key for key, value in y_tk.word_index.items()}\n",
    "    y_id_to_word[0] = '<PAD>'\n",
    "\n",
    "    sentence = 'he saw a old yellow truck'\n",
    "    sentence = [x_tk.word_index[word] for word in sentence.split()]\n",
    "    sentence = pad_sequences([sentence], maxlen=x.shape[-1], padding='post')\n",
    "    sentences = np.array([sentence[0], x[0]])\n",
    "    predictions = model.predict(sentences, len(sentences))\n",
    "\n",
    "    print('Sample 1:')\n",
    "    print(' '.join([y_id_to_word[np.argmax(x)] for x in predictions[0]]))\n",
    "    print('Il a vu un vieux camion jaune')\n",
    "    print('Sample 2:')\n",
    "    print(' '.join([y_id_to_word[np.argmax(x)] for x in predictions[1]]))\n",
    "    print(' '.join([y_id_to_word[np.max(x)] for x in y[0]]))\n",
    "\n",
    "\n",
    "final_predictions(preproc_english_sentences, preproc_french_sentences, english_tokenizer, french_tokenizer)"
   ]
  },
  {
   "cell_type": "markdown",
   "metadata": {},
   "source": [
    "## Submission\n",
    "When you're ready to submit, complete the following steps:\n",
    "1. Review the [rubric](https://review.udacity.com/#!/rubrics/1004/view) to ensure your submission meets all requirements to pass\n",
    "2. Generate an HTML version of this notebook\n",
    "\n",
    "  - Run the next cell to attempt automatic generation (this is the recommended method in Workspaces)\n",
    "  - Navigate to **FILE -> Download as -> HTML (.html)**\n",
    "  - Manually generate a copy using `nbconvert` from your shell terminal\n",
    "```\n",
    "$ pip install nbconvert\n",
    "$ python -m nbconvert machine_translation.ipynb\n",
    "```\n",
    "  \n",
    "3. Submit the project\n",
    "\n",
    "  - If you are in a Workspace, simply click the \"Submit Project\" button (bottom towards the right)\n",
    "  \n",
    "  - Otherwise, add the following files into a zip archive and submit them \n",
    "  - `helper.py`\n",
    "  - `machine_translation.ipynb`\n",
    "  - `machine_translation.html`\n",
    "    - You can export the notebook by navigating to **File -> Download as -> HTML (.html)**."
   ]
  },
  {
   "cell_type": "code",
   "execution_count": 27,
   "metadata": {},
   "outputs": [
    {
     "data": {
      "text/plain": [
       "['[NbConvertApp] Converting notebook machine_translation.ipynb to html',\n",
       " '[NbConvertApp] Writing 380618 bytes to machine_translation.html']"
      ]
     },
     "execution_count": 27,
     "metadata": {},
     "output_type": "execute_result"
    }
   ],
   "source": [
    "!!python -m nbconvert *.ipynb"
   ]
  },
  {
   "cell_type": "markdown",
   "metadata": {},
   "source": [
    "## Optional Enhancements\n",
    "\n",
    "This project focuses on learning various network architectures for machine translation, but we don't evaluate the models according to best practices by splitting the data into separate test & training sets -- so the model accuracy is overstated. Use the [`sklearn.model_selection.train_test_split()`](http://scikit-learn.org/stable/modules/generated/sklearn.model_selection.train_test_split.html) function to create separate training & test datasets, then retrain each of the models using only the training set and evaluate the prediction accuracy using the hold out test set. Does the \"best\" model change?"
   ]
  }
 ],
 "metadata": {
  "kernelspec": {
   "display_name": "Python 3",
   "language": "python",
   "name": "python3"
  },
  "language_info": {
   "codemirror_mode": {
    "name": "ipython",
    "version": 3
   },
   "file_extension": ".py",
   "mimetype": "text/x-python",
   "name": "python",
   "nbconvert_exporter": "python",
   "pygments_lexer": "ipython3",
   "version": "3.6.3"
  }
 },
 "nbformat": 4,
 "nbformat_minor": 1
}
